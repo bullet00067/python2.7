{
 "cells": [
  {
   "cell_type": "code",
   "execution_count": 1,
   "metadata": {},
   "outputs": [
    {
     "name": "stdout",
     "output_type": "stream",
     "text": [
      "<!DOCTYPE html PUBLIC \"-//W3C//DTD XHTML 1.0 Transitional//EN\" \"http://www.w3.org/TR/xhtml1/DTD/xhtml1-transitional.dtd\">\r\n",
      "<html xmlns=\"http://www.w3.org/1999/xhtml\">\r\n",
      "<head>\r\n",
      "<meta http-equiv=\"Content-Type\" content=\"text/html; charset=utf-8\" />\r\n",
      "<title>高鐵企業網站公告</title>\r\n",
      "<style>\r\n",
      "body { margin:0; padding:0; color:#8A7E6C;  text-align:center; font-family:Arial, Helvetica, sans-serif;}\r\n",
      ".Page { border-top:6px solid #f08300 ; padding-top:60px;}\r\n",
      "h1 {  color:#DA5523; border-bottom:1px solid #eae8e5; padding:0 10px 10px 10px;  text-align:left; font-size:x-large}\r\n",
      ".Info {   line-height:1.8; padding:0 10px; text-align:justify;}\r\n",
      ".Info a { padding:0 5px 0 0; color:#DA5523; text-decoration:none; border-bottom:1px solid #DA5523; }\r\n",
      ".Info a:hover { color:#f33; border-bottom:1px solid #F33}\r\n",
      "</style>\r\n",
      "</head>\r\n",
      "\r\n",
      "<body>\r\n",
      "<div class=\"Page\">\r\n",
      "\t<table align=\"center\" width=\"60%\">\r\n",
      "    \t<tr>\r\n",
      "        \t<td>\r\n",
      "            \t<h1>高鐵企業網站公告</h1>\r\n",
      "            \t<div class=\"Info\"><b>系統檢測發現您所輸入的內容異常, 請 <A href=\"javascript:history.back();\">回上一頁</a> 重新操作，並注意各資料的輸入提示。\r\n",
      "            \t\t<br />\r\n",
      "\t\t\t\t\tYour input is invalid, please read carefully the tips on each field and try again.<br/></b><br/>\r\n",
      "            \t\t<div>前往高鐵企業網站首頁：<a href=\"http://www.thsrc.com.tw\">http://www.thsrc.com.tw</a></div>\r\n",
      "                    \r\n",
      "            \t</div>\r\n",
      "            </td>\r\n",
      "        </tr>\r\n",
      "    </table>\r\n",
      "</div>\r\n",
      "</body>\r\n",
      "</html>\n"
     ]
    }
   ],
   "source": [
    "import requests\n",
    "payload = {\n",
    "'StartStationName: 台北站',\n",
    "'EndStationName: 左營站',\n",
    "'SearchType:S',\n",
    "'StartStation:977abb69-413a-4ccf-a109-0272c24fd490',\n",
    "'EndStation:f2519629-5973-4d08-913b-479cce78a356',\n",
    "'DepartueSearchDate:2019/02/07',\n",
    "'DepartueSearchTime:09:00',\n",
    "'DepartueTrainCode:',\n",
    "'DestinationSearchDate:',\n",
    "'DestinationSearchTime:',\n",
    "'DiscountType:'\n",
    "}\n",
    "res = requests.post(\"https://www.thsrc.com.tw/tw/TimeTable/Search\", data = payload)\n",
    "print(res.text)"
   ]
  },
  {
   "cell_type": "code",
   "execution_count": null,
   "metadata": {},
   "outputs": [],
   "source": []
  },
  {
   "cell_type": "code",
   "execution_count": null,
   "metadata": {},
   "outputs": [],
   "source": []
  }
 ],
 "metadata": {
  "kernelspec": {
   "display_name": "Python 3",
   "language": "python",
   "name": "python3"
  },
  "language_info": {
   "codemirror_mode": {
    "name": "ipython",
    "version": 3
   },
   "file_extension": ".py",
   "mimetype": "text/x-python",
   "name": "python",
   "nbconvert_exporter": "python",
   "pygments_lexer": "ipython3",
   "version": "3.6.4"
  }
 },
 "nbformat": 4,
 "nbformat_minor": 2
}

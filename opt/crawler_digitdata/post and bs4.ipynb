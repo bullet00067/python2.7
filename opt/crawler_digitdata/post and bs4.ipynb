{
 "cells": [
  {
   "cell_type": "code",
   "execution_count": 1,
   "metadata": {},
   "outputs": [
    {
     "name": "stdout",
     "output_type": "stream",
     "text": [
      "¥2359.00 天猫国际官方直营 【直营】日本任天堂switch游戏机ns游戏主机 香港保税极速发货\n",
      "¥2599.00 Dasbabylandde海外旗舰店 任天堂 Nintendo Switch\n",
      "¥4099.00 Dasbabylandde海外旗舰店 任天堂 NS皮卡丘限定款\n",
      "¥2339.00 嘉和海外专营店 【花呗三期免息】任天堂Switch家用游戏机掌机NS智能体感游戏主机\n",
      "¥6666.00 52185软件专营店 电玩巴士 任天堂Switch NS 掌机 游戏机 家用机 喷射2zs\n",
      "¥69.00 利乐普数码专营店 利乐普 switch游戏手柄\n",
      "¥4179.00 Dasbabylandde海外旗舰店 任天堂Switch 家用游戏机掌机NS体感主机 马里奥奥德赛塞尔达包邮\n",
      "¥1860.00 斯波兰旗舰店 斯波兰 S16\n",
      "¥669.00 极风数码专营店 小鸡vx键盘鼠标套装无线转换器PS4 pro/xbox one/switch游戏机外设配件手柄荒野大镖客2绝地求生战地5PS4键鼠\n",
      "¥1380.00 天创恒达数码专营店 天创恒达高清hdmi视频采集卡ps4/switch/ns电脑游戏直播斗鱼530hdv网络图像usb3.0/VGA/OBS采集器数据录制盒\n",
      "¥499.00 天猫国际官方直营 【直营】日本任天堂进口NintendoSwitch无线游戏手柄Switch Pro\n",
      "¥1099.00 kingston金士顿旗舰店 Kingston/金士顿 Cloud Flight 天箭\n",
      "¥1195.00 艾诺迪亚数码专营店 SUNSONNY/森松尼 H156B\n",
      "¥1399.00 HYPERX旗舰店 HYPERX Cloud Flight 天箭\n",
      "¥799.00 johnwill旗舰店 JOHNWILL Type-C便携显示器\n",
      "¥1799.00 ASUS华硕旗舰店 Asus/华硕 ROG Delta\n",
      "¥899.00 qrtech数码旗舰店 QRTECH A13pro\n",
      "¥719.00 天创恒达旗舰店 天创恒达UB60游戏视频HDMI采集卡USB3.0高清4K直播ps4/switch笔记本苹果电脑手机免驱斗鱼YY虎牙ps4采集盒\n",
      "¥719.00 上海柯凰数码专营店 天创恒达Ps4/switch游戏直播HDMI视频采集卡 USB3.0苹果电脑MAC笔记本NS/XBOX手机游戏直播盒 UB60\n",
      "¥1299.00 艾诺迪亚数码专营店 15.6英寸USBC便携触控显示器Switch直连锤子手机TNT同屏电脑外接\n",
      "¥695.00 宁心力合数码专营店 Switch NS游戏 火影忍者 究极忍者风暴三部曲12日文/3中文 现货\n",
      "¥1258.00 斯波兰旗舰店 斯波兰 S4\n",
      "¥1750.00 金鑫华宇数码专营店 圆刚GC553低延迟4KHDR游戏直播HDMI采集卡usb3.1switch PS4 Xbox\n",
      "¥899.00 benq明基鑫网专卖店 明基 GW2480\n",
      "¥795.00 金鑫华宇数码专营店 包顺丰圆刚CV710 USB3.0高清游戏直播yy战旗虎牙微吼任天堂switch\n",
      "¥2399.00 ilollipop旗舰店 荷兰Easywalker mini Switch推车 婴儿童高景观轻便旅行双向伞车\n",
      "¥1450.00 ubnt乐茂专卖店 ubnt unifi switch us-8-150w网管型千兆8口poe交换机家用分流器\n",
      "¥2150.00 ubnt乐茂专卖店 ubnt unifi switch us-16-150w千兆16口poe交换机802.11af标准48V\n",
      "¥669.00 gamesir乐胜特专卖店 GameSir Vx\n",
      "¥799.00 Dasbabylandde海外旗舰店 任天堂Switch Nintendo LABO 创意五合一套装游戏 纸板纸盒NS玩具\n",
      "¥2599.00 avermedia圆刚专卖店 圆刚GC573 hdmi高清视频吃鸡直播4k采集卡 switch 电脑ps4编码器\n",
      "¥798.00 创视之星旗舰店 创视之星 HDMI视频采集卡4k输入ps4/switch/NS/Xbox电脑手机游戏斗鱼B站yy淘宝直播盒USB3.0 Mac免驱OBS推流\n",
      "¥11122.00 bogala旗舰店 8121SV6GE「Switch Push Button ON Mom SPDT Round Plunger 1」\n",
      "¥1397.61 bogala旗舰店 9007ML04S0400《LIMIT SWITCH 240VAC 10A ML》\n",
      "¥779.00 avermedia圆刚专卖店 圆刚官方C875usb采集卡HDMI免趋视频一键录制视频会议Switch Mac\n",
      "¥950.00 lululemon官方旗舰店 lululemon丨Switch Up 男士运动长袖连帽衫 LM3AQ1S\n",
      "¥1380.00 天创恒达旗舰店 天创恒达TC-530hdv高清HDMI视频采集卡电脑游戏ps4/switch/ns斗鱼虎牙usb录制直播会议医疗教学年会设备\n",
      "¥3899.00 天创恒达数码专营店 天创恒达TC 560N1 LV 4K超高清采集卡 60帧导播直播HDMI 4k录制 PS4 switch视频采集卡\n",
      "¥165.00 天猫国际官方直营 【直营】日本任天堂进口Nintendo Switch 方向盘Joy-Con Wheel\n",
      "¥880.00 华霖数码专营店 奥顿CH90 PS4/switch游戏直播采集卡HDMI高清视频图像数据采集器斗鱼熊猫OBS推流视频直播采集盒usb3.0免驱\n",
      "¥1699.00 玩家国度旗舰店 ROG/玩家国度 ROG delta\n",
      "¥650.00 lululemon官方旗舰店 lululemon丨Switch Up 男士短袖T恤LM3AQ7S\n",
      "¥688.00 格兹数码专营店 Zendure A6PD\n",
      "¥999.00 qrtech数码旗舰店 QRTECH C12pro\n",
      "¥999.00 kingston金士顿旗舰店 Kingston/金士顿 HXSDC/256GB\n",
      "¥669.00 gamesir旗舰店 GameSir Gamesir/盖世小鸡 VX\n",
      "¥1499.00 雷克沙万众旗胜专卖店 包顺丰Lexar雷克沙TF卡256G 1000X高速MicroSD存储卡U3手机GOPRO5/6/7运动相机4K内存卡NS任天堂Switch高速卡\n",
      "¥750.00 罗技G官方旗舰店 罗技Flight Switch Panel微软模拟飞行10 模拟飞行驾驶舱 赛钛客\n",
      "¥700.00 畅玩数码专营店 switch游戏 口袋妖怪 精灵宝可梦 皮卡丘+精灵球 中文正版 现货\n",
      "¥779.00 罗技G百事得专卖店 【顺丰包邮】罗技G 赛钛客Saitek Flight Switch Panel驾驶舱模拟开关控制器\n",
      "¥835.30 笑月乐器旗舰店 AC 110/220V To DC 0-30V 0-30A Switch Power Supply Adapter Ad\n",
      "¥610.00 斯蒂姆数码专营店\n",
      "\n",
      "   等更多商家 任天堂 NS Nintendo 100美金 eshop美版服WiiU充值点卡Switch 3DS\n",
      "¥599.00 米青旗舰店 米青 USB3.0HDMI视频采集卡高清PS4斗鱼 Switch主机游戏直播1080p\n",
      "¥702.50 美客数码配件专营店 HRS202B7【SWITCH THUMBWHEEL HALL EFFECT】\n",
      "¥680.00 博雷数码专营店 高清视频采集卡笔记本usb电脑switch采集盒免驱动hdmi直播ps4游戏数据采集器机顶盒淘宝YY斗鱼OBS录制盒1080P\n",
      "¥1680.00 春秋易经数码专营店 LSYJB6B-7M [Limit Switches Limit Switch/HDLS with special se\n",
      "¥796.70 春秋易经数码专营店 1TL887-7 [SWITCH TOGGLE SPDT 10A 125V]\n",
      "¥749.00 罗技G新骏专卖店 罗技Flight Switch Panel驾驶舱模拟赛钛客专业开关面板控制器\n",
      "¥1739.00 联信宏富数码专营店 圆刚GC553游戏直播4K HDR采集卡usb3.1 switch PS4 Xbox\n",
      "¥3350.00 华霖数码专营店 美乐威USB capture HDMI 4K plus超高清视频采集卡斗鱼YY熊猫ps4/switch/ns游戏直播录制盒USB3.0电脑OBS推流\n"
     ]
    }
   ],
   "source": [
    "import requests\n",
    "from bs4 import BeautifulSoup\n",
    "res = requests.get(\"https://list.tmall.com/search_product.htm?q=switch&type=p&vmarket=&spm=875.7931836%2FB.a2227oh.d100&from=mallfp..pc_1_searchbutton\")\n",
    "soup = BeautifulSoup(res.text, \"lxml\")\n",
    "for item in soup.select('.product-iWrap'):\n",
    "        print(item.select('em')[0].text.strip(), item.select('.productShop')[0].text.strip(), item.select('.productTitle')[0].text.strip())\n",
    "  "
   ]
  },
  {
   "cell_type": "code",
   "execution_count": null,
   "metadata": {},
   "outputs": [],
   "source": []
  }
 ],
 "metadata": {
  "kernelspec": {
   "display_name": "Python 3",
   "language": "python",
   "name": "python3"
  },
  "language_info": {
   "codemirror_mode": {
    "name": "ipython",
    "version": 3
   },
   "file_extension": ".py",
   "mimetype": "text/x-python",
   "name": "python",
   "nbconvert_exporter": "python",
   "pygments_lexer": "ipython3",
   "version": "3.6.4"
  }
 },
 "nbformat": 4,
 "nbformat_minor": 2
}
